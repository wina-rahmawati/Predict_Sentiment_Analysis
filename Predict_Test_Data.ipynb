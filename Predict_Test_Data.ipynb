{
  "nbformat": 4,
  "nbformat_minor": 0,
  "metadata": {
    "colab": {
      "name": "Predict Test Data.ipynb",
      "provenance": [],
      "mount_file_id": "1E0pQ08YRx-kWed_G4hddeZE4eLtHEjlE",
      "authorship_tag": "ABX9TyMq+jiwX3vdOHjijc8iLGCb",
      "include_colab_link": true
    },
    "kernelspec": {
      "name": "python3",
      "display_name": "Python 3"
    }
  },
  "cells": [
    {
      "cell_type": "markdown",
      "metadata": {
        "id": "view-in-github",
        "colab_type": "text"
      },
      "source": [
        "<a href=\"https://colab.research.google.com/github/wina-rahmawati/Shopee-Code-League/blob/master/Predict_Test_Data.ipynb\" target=\"_parent\"><img src=\"https://colab.research.google.com/assets/colab-badge.svg\" alt=\"Open In Colab\"/></a>"
      ]
    },
    {
      "cell_type": "code",
      "metadata": {
        "id": "Umjd34--jPtS",
        "colab_type": "code",
        "colab": {}
      },
      "source": [
        "import numpy as np # linear algebra\n",
        "import pandas as pd # data processing, CSV file I/O (e.g. pd.read_csv)\n",
        "\n",
        "from sklearn.feature_extraction.text import CountVectorizer\n",
        "from keras.preprocessing.text import Tokenizer\n",
        "from keras.preprocessing.sequence import pad_sequences\n",
        "from keras.models import Sequential\n",
        "from keras.layers import Dense, Embedding, LSTM, SpatialDropout1D\n",
        "from sklearn.model_selection import train_test_split\n",
        "from keras.utils.np_utils import to_categorical\n",
        "from sklearn.utils import resample\n",
        "from sklearn.utils import shuffle\n",
        "from sklearn.metrics import confusion_matrix,classification_report\n",
        "from tqdm import tqdm\n",
        "import re\n",
        "\n",
        "from keras.layers import Dense, Dropout, Activation, LSTM"
      ],
      "execution_count": 6,
      "outputs": []
    },
    {
      "cell_type": "code",
      "metadata": {
        "id": "4-f1ucHgnoNB",
        "colab_type": "code",
        "colab": {
          "base_uri": "https://localhost:8080/",
          "height": 204
        },
        "outputId": "f1a34e78-4952-437f-ea53-95b15e818742"
      },
      "source": [
        "data=pd.read_csv('/content/drive/My Drive/Colab Notebooks/dataset_SCL/test.csv')\n",
        "data.head()"
      ],
      "execution_count": 71,
      "outputs": [
        {
          "output_type": "execute_result",
          "data": {
            "text/html": [
              "<div>\n",
              "<style scoped>\n",
              "    .dataframe tbody tr th:only-of-type {\n",
              "        vertical-align: middle;\n",
              "    }\n",
              "\n",
              "    .dataframe tbody tr th {\n",
              "        vertical-align: top;\n",
              "    }\n",
              "\n",
              "    .dataframe thead th {\n",
              "        text-align: right;\n",
              "    }\n",
              "</style>\n",
              "<table border=\"1\" class=\"dataframe\">\n",
              "  <thead>\n",
              "    <tr style=\"text-align: right;\">\n",
              "      <th></th>\n",
              "      <th>review_id</th>\n",
              "      <th>review</th>\n",
              "      <th>rating</th>\n",
              "    </tr>\n",
              "  </thead>\n",
              "  <tbody>\n",
              "    <tr>\n",
              "      <th>0</th>\n",
              "      <td>1</td>\n",
              "      <td>Great danger, cool, motif and cantik2 jg model...</td>\n",
              "      <td>1</td>\n",
              "    </tr>\n",
              "    <tr>\n",
              "      <th>1</th>\n",
              "      <td>2</td>\n",
              "      <td>One of the shades don't fit well</td>\n",
              "      <td>1</td>\n",
              "    </tr>\n",
              "    <tr>\n",
              "      <th>2</th>\n",
              "      <td>3</td>\n",
              "      <td>Very comfortable</td>\n",
              "      <td>1</td>\n",
              "    </tr>\n",
              "    <tr>\n",
              "      <th>3</th>\n",
              "      <td>4</td>\n",
              "      <td>Fast delivery. Product expiry is on Dec 2022. ...</td>\n",
              "      <td>1</td>\n",
              "    </tr>\n",
              "    <tr>\n",
              "      <th>4</th>\n",
              "      <td>5</td>\n",
              "      <td>it's sooooo cute! i like playing with the glit...</td>\n",
              "      <td>1</td>\n",
              "    </tr>\n",
              "  </tbody>\n",
              "</table>\n",
              "</div>"
            ],
            "text/plain": [
              "   review_id                                             review  rating\n",
              "0          1  Great danger, cool, motif and cantik2 jg model...       1\n",
              "1          2                   One of the shades don't fit well       1\n",
              "2          3                                   Very comfortable       1\n",
              "3          4  Fast delivery. Product expiry is on Dec 2022. ...       1\n",
              "4          5  it's sooooo cute! i like playing with the glit...       1"
            ]
          },
          "metadata": {
            "tags": []
          },
          "execution_count": 71
        }
      ]
    },
    {
      "cell_type": "code",
      "metadata": {
        "id": "6dUHruK0tuUf",
        "colab_type": "code",
        "colab": {
          "base_uri": "https://localhost:8080/",
          "height": 34
        },
        "outputId": "420fae10-1aba-401b-c4d9-aea4200656b0"
      },
      "source": [
        "data[\"review\"].dtype"
      ],
      "execution_count": 12,
      "outputs": [
        {
          "output_type": "execute_result",
          "data": {
            "text/plain": [
              "dtype('O')"
            ]
          },
          "metadata": {
            "tags": []
          },
          "execution_count": 12
        }
      ]
    },
    {
      "cell_type": "code",
      "metadata": {
        "id": "R758TvVhn7ix",
        "colab_type": "code",
        "colab": {
          "base_uri": "https://localhost:8080/",
          "height": 309
        },
        "outputId": "9c993400-818e-4a30-e3fb-14c1d94e9b98"
      },
      "source": [
        "# # load and evaluate a saved model\n",
        "# import csv\n",
        "# from keras.models import load_model\n",
        "\n",
        "# load model\n",
        "model = load_model('/content/drive/My Drive/Colab Notebooks/dataset_SCL/weights4.hdf5')\n",
        "# summarize model.\n",
        "model.summary()\n",
        "\n",
        "listdata=data['review'].values.astype('U')\n",
        "listdata = [d for d in listdata]"
      ],
      "execution_count": 67,
      "outputs": [
        {
          "output_type": "stream",
          "text": [
            "/usr/local/lib/python3.6/dist-packages/tensorflow/python/framework/indexed_slices.py:434: UserWarning: Converting sparse IndexedSlices to a dense Tensor of unknown shape. This may consume a large amount of memory.\n",
            "  \"Converting sparse IndexedSlices to a dense Tensor of unknown shape. \"\n"
          ],
          "name": "stderr"
        },
        {
          "output_type": "stream",
          "text": [
            "Model: \"sequential_14\"\n",
            "_________________________________________________________________\n",
            "Layer (type)                 Output Shape              Param #   \n",
            "=================================================================\n",
            "embedding_2 (Embedding)      (None, 352, 400)          920400    \n",
            "_________________________________________________________________\n",
            "lstm_2 (LSTM)                (None, 400)               1281600   \n",
            "_________________________________________________________________\n",
            "dense_2 (Dense)              (None, 5)                 2005      \n",
            "=================================================================\n",
            "Total params: 2,204,005\n",
            "Trainable params: 2,204,005\n",
            "Non-trainable params: 0\n",
            "_________________________________________________________________\n"
          ],
          "name": "stdout"
        }
      ]
    },
    {
      "cell_type": "code",
      "metadata": {
        "id": "AVYky-PU5Mpp",
        "colab_type": "code",
        "colab": {}
      },
      "source": [
        "import tensorflow as tf"
      ],
      "execution_count": 59,
      "outputs": []
    },
    {
      "cell_type": "code",
      "metadata": {
        "id": "F8glpdmR5uFi",
        "colab_type": "code",
        "colab": {
          "base_uri": "https://localhost:8080/",
          "height": 34
        },
        "outputId": "81ed9849-06d8-4f06-90c9-cc7dc5066129"
      },
      "source": [
        "data.shape"
      ],
      "execution_count": 61,
      "outputs": [
        {
          "output_type": "execute_result",
          "data": {
            "text/plain": [
              "(60427, 2)"
            ]
          },
          "metadata": {
            "tags": []
          },
          "execution_count": 61
        }
      ]
    },
    {
      "cell_type": "code",
      "metadata": {
        "id": "0kEH1xIJpaSp",
        "colab_type": "code",
        "colab": {}
      },
      "source": [
        "tokenizer = Tokenizer(num_words=2300, split=\" \")\n",
        "tokenizer.fit_on_texts(listdata)\n",
        "\n",
        "X = tokenizer.texts_to_sequences(listdata)\n",
        "X = pad_sequences(X, maxlen=352) # padding our text vector so they all have the same length"
      ],
      "execution_count": 75,
      "outputs": []
    },
    {
      "cell_type": "code",
      "metadata": {
        "id": "ZXrC8bVAEvyc",
        "colab_type": "code",
        "colab": {
          "base_uri": "https://localhost:8080/",
          "height": 34
        },
        "outputId": "88147ae4-984a-4fe4-cc44-1fa7c203e378"
      },
      "source": [
        "X.shape"
      ],
      "execution_count": 76,
      "outputs": [
        {
          "output_type": "execute_result",
          "data": {
            "text/plain": [
              "(60427, 352)"
            ]
          },
          "metadata": {
            "tags": []
          },
          "execution_count": 76
        }
      ]
    },
    {
      "cell_type": "code",
      "metadata": {
        "id": "vfB8foWRvjcb",
        "colab_type": "code",
        "colab": {
          "base_uri": "https://localhost:8080/",
          "height": 34
        },
        "outputId": "b2fb88be-119d-45a6-f3de-9fd4104f7cb9"
      },
      "source": [
        "new_label = model.predict(X, batch_size=32, verbose=1, use_multiprocessing=True)"
      ],
      "execution_count": 77,
      "outputs": [
        {
          "output_type": "stream",
          "text": [
            "60427/60427 [==============================] - 1811s 30ms/step\n"
          ],
          "name": "stdout"
        }
      ]
    },
    {
      "cell_type": "code",
      "metadata": {
        "id": "a7XTtnp62Bpp",
        "colab_type": "code",
        "colab": {}
      },
      "source": [
        "result_df = pd.DataFrame(new_label)"
      ],
      "execution_count": 79,
      "outputs": []
    },
    {
      "cell_type": "code",
      "metadata": {
        "id": "MzRORBTZMKHV",
        "colab_type": "code",
        "colab": {
          "base_uri": "https://localhost:8080/",
          "height": 204
        },
        "outputId": "bc7b6243-9219-4f78-a0e8-1e0b912e2464"
      },
      "source": [
        "result_df.head()"
      ],
      "execution_count": 80,
      "outputs": [
        {
          "output_type": "execute_result",
          "data": {
            "text/html": [
              "<div>\n",
              "<style scoped>\n",
              "    .dataframe tbody tr th:only-of-type {\n",
              "        vertical-align: middle;\n",
              "    }\n",
              "\n",
              "    .dataframe tbody tr th {\n",
              "        vertical-align: top;\n",
              "    }\n",
              "\n",
              "    .dataframe thead th {\n",
              "        text-align: right;\n",
              "    }\n",
              "</style>\n",
              "<table border=\"1\" class=\"dataframe\">\n",
              "  <thead>\n",
              "    <tr style=\"text-align: right;\">\n",
              "      <th></th>\n",
              "      <th>0</th>\n",
              "      <th>1</th>\n",
              "      <th>2</th>\n",
              "      <th>3</th>\n",
              "      <th>4</th>\n",
              "    </tr>\n",
              "  </thead>\n",
              "  <tbody>\n",
              "    <tr>\n",
              "      <th>0</th>\n",
              "      <td>0.093678</td>\n",
              "      <td>0.501506</td>\n",
              "      <td>0.250818</td>\n",
              "      <td>0.067731</td>\n",
              "      <td>0.069462</td>\n",
              "    </tr>\n",
              "    <tr>\n",
              "      <th>1</th>\n",
              "      <td>0.004489</td>\n",
              "      <td>0.022771</td>\n",
              "      <td>0.175370</td>\n",
              "      <td>0.431579</td>\n",
              "      <td>0.424950</td>\n",
              "    </tr>\n",
              "    <tr>\n",
              "      <th>2</th>\n",
              "      <td>0.100325</td>\n",
              "      <td>0.150408</td>\n",
              "      <td>0.335418</td>\n",
              "      <td>0.164448</td>\n",
              "      <td>0.145087</td>\n",
              "    </tr>\n",
              "    <tr>\n",
              "      <th>3</th>\n",
              "      <td>0.002670</td>\n",
              "      <td>0.010088</td>\n",
              "      <td>0.063165</td>\n",
              "      <td>0.502804</td>\n",
              "      <td>0.440889</td>\n",
              "    </tr>\n",
              "    <tr>\n",
              "      <th>4</th>\n",
              "      <td>0.002590</td>\n",
              "      <td>0.015202</td>\n",
              "      <td>0.115621</td>\n",
              "      <td>0.454859</td>\n",
              "      <td>0.403716</td>\n",
              "    </tr>\n",
              "  </tbody>\n",
              "</table>\n",
              "</div>"
            ],
            "text/plain": [
              "          0         1         2         3         4\n",
              "0  0.093678  0.501506  0.250818  0.067731  0.069462\n",
              "1  0.004489  0.022771  0.175370  0.431579  0.424950\n",
              "2  0.100325  0.150408  0.335418  0.164448  0.145087\n",
              "3  0.002670  0.010088  0.063165  0.502804  0.440889\n",
              "4  0.002590  0.015202  0.115621  0.454859  0.403716"
            ]
          },
          "metadata": {
            "tags": []
          },
          "execution_count": 80
        }
      ]
    },
    {
      "cell_type": "code",
      "metadata": {
        "id": "xvJMZ5t4MVko",
        "colab_type": "code",
        "colab": {}
      },
      "source": [
        "result_df.to_csv('/content/drive/My Drive/Colab Notebooks/dataset_SCL/result_sentiment.csv')"
      ],
      "execution_count": 82,
      "outputs": []
    },
    {
      "cell_type": "code",
      "metadata": {
        "id": "VQqst4kiMnMt",
        "colab_type": "code",
        "colab": {}
      },
      "source": [
        ""
      ],
      "execution_count": null,
      "outputs": []
    }
  ]
}